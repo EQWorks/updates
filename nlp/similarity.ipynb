{
 "cells": [
  {
   "cell_type": "code",
   "execution_count": 1,
   "id": "956b2884-ac87-4149-b753-aab18a6a51af",
   "metadata": {},
   "outputs": [],
   "source": [
    "import fasttext"
   ]
  },
  {
   "cell_type": "code",
   "execution_count": 2,
   "id": "e75dbff3",
   "metadata": {},
   "outputs": [],
   "source": [
    "# english wiki first 1 billion bytes\n",
    "# https://fasttext.cc/docs/en/unsupervised-tutorial.html\n",
    "model_path = './wiki_1b.bin'\n",
    "# model = fasttext.train_unsupervised('data/fil9')\n",
    "# model.save_model('wiki_1b.bin')"
   ]
  },
  {
   "cell_type": "code",
   "execution_count": 3,
   "id": "89dd445e-d362-4025-884e-173312194877",
   "metadata": {},
   "outputs": [
    {
     "name": "stderr",
     "output_type": "stream",
     "text": [
      "Warning : `load_model` does not return WordVectorModel or SupervisedModel any more, but a `FastText` object which is very similar.\n"
     ]
    }
   ],
   "source": [
    "model = fasttext.load_model(model_path)"
   ]
  },
  {
   "cell_type": "code",
   "execution_count": 4,
   "id": "c98b13eb-f59e-4949-83de-27809c214d93",
   "metadata": {},
   "outputs": [
    {
     "name": "stdout",
     "output_type": "stream",
     "text": [
      "933.15 MB\n"
     ]
    }
   ],
   "source": [
    "import os\n",
    " \n",
    "file_size = os.path.getsize('./wiki_1b.bin')\n",
    "print(f'{round(file_size / 1024 / 1024, 2)} MB')"
   ]
  },
  {
   "cell_type": "code",
   "execution_count": 5,
   "id": "7f907a96-60e1-45d2-bbe7-0771740a3769",
   "metadata": {},
   "outputs": [
    {
     "ename": "ValueError",
     "evalue": "For now we only support quantization of supervised models",
     "output_type": "error",
     "traceback": [
      "\u001b[0;31m---------------------------------------------------------------------------\u001b[0m",
      "\u001b[0;31mValueError\u001b[0m                                Traceback (most recent call last)",
      "\u001b[0;32m<ipython-input-5-906c29ec6057>\u001b[0m in \u001b[0;36m<module>\u001b[0;34m\u001b[0m\n\u001b[0;32m----> 1\u001b[0;31m \u001b[0mmodel\u001b[0m\u001b[0;34m.\u001b[0m\u001b[0mquantize\u001b[0m\u001b[0;34m(\u001b[0m\u001b[0;34m)\u001b[0m  \u001b[0;31m# unsupervised word embedding cannot be quantized\u001b[0m\u001b[0;34m\u001b[0m\u001b[0;34m\u001b[0m\u001b[0m\n\u001b[0m\u001b[1;32m      2\u001b[0m \u001b[0;34m\u001b[0m\u001b[0m\n\u001b[1;32m      3\u001b[0m \u001b[0;31m# This means that we have to allow loading of the model on-demand instead bundling like the supervised model for release notes classification\u001b[0m\u001b[0;34m\u001b[0m\u001b[0;34m\u001b[0m\u001b[0;34m\u001b[0m\u001b[0m\n",
      "\u001b[0;32m~/.local/share/virtualenvs/nlp-qPCzfwe0/lib/python3.9/site-packages/fasttext/FastText.py\u001b[0m in \u001b[0;36mquantize\u001b[0;34m(self, input, qout, cutoff, retrain, epoch, lr, thread, verbose, dsub, qnorm)\u001b[0m\n\u001b[1;32m    356\u001b[0m         \u001b[0;32mif\u001b[0m \u001b[0minput\u001b[0m \u001b[0;32mis\u001b[0m \u001b[0;32mNone\u001b[0m\u001b[0;34m:\u001b[0m\u001b[0;34m\u001b[0m\u001b[0;34m\u001b[0m\u001b[0m\n\u001b[1;32m    357\u001b[0m             \u001b[0minput\u001b[0m \u001b[0;34m=\u001b[0m \u001b[0;34m\"\"\u001b[0m\u001b[0;34m\u001b[0m\u001b[0;34m\u001b[0m\u001b[0m\n\u001b[0;32m--> 358\u001b[0;31m         self.f.quantize(\n\u001b[0m\u001b[1;32m    359\u001b[0m             \u001b[0minput\u001b[0m\u001b[0;34m,\u001b[0m \u001b[0mqout\u001b[0m\u001b[0;34m,\u001b[0m \u001b[0mcutoff\u001b[0m\u001b[0;34m,\u001b[0m \u001b[0mretrain\u001b[0m\u001b[0;34m,\u001b[0m \u001b[0mepoch\u001b[0m\u001b[0;34m,\u001b[0m \u001b[0mlr\u001b[0m\u001b[0;34m,\u001b[0m \u001b[0mthread\u001b[0m\u001b[0;34m,\u001b[0m \u001b[0mverbose\u001b[0m\u001b[0;34m,\u001b[0m \u001b[0mdsub\u001b[0m\u001b[0;34m,\u001b[0m\u001b[0;34m\u001b[0m\u001b[0;34m\u001b[0m\u001b[0m\n\u001b[1;32m    360\u001b[0m             \u001b[0mqnorm\u001b[0m\u001b[0;34m\u001b[0m\u001b[0;34m\u001b[0m\u001b[0m\n",
      "\u001b[0;31mValueError\u001b[0m: For now we only support quantization of supervised models"
     ]
    }
   ],
   "source": [
    "model.quantize()  # unsupervised word embedding cannot be quantized\n",
    "\n",
    "# This means that we have to allow loading of the model on-demand instead bundling like the supervised model for release notes classification"
   ]
  },
  {
   "cell_type": "code",
   "execution_count": 6,
   "id": "548bd065-d956-4c8e-9b6f-25b5ec63c950",
   "metadata": {},
   "outputs": [],
   "source": [
    "# https://masongallo.github.io/machine/learning,/python/2016/07/29/cosine-similarity.html\n",
    "import numpy as np\n",
    "\n",
    "def cos_sim(a, b):\n",
    "    \"\"\"Takes 2 vectors a, b and returns the cosine similarity according \n",
    "    to the definition of the dot product\n",
    "    \"\"\"\n",
    "    dot_product = np.dot(a, b)\n",
    "    norm_a = np.linalg.norm(a)\n",
    "    norm_b = np.linalg.norm(b)\n",
    "    return dot_product / (norm_a * norm_b)"
   ]
  },
  {
   "cell_type": "code",
   "execution_count": 7,
   "id": "a9399c71-09f3-428a-8694-c9bf58ece0a1",
   "metadata": {},
   "outputs": [],
   "source": [
    "def sim(model, a, b):\n",
    "    if type(model) is str:\n",
    "        model = fasttext.load_model(model)\n",
    "\n",
    "    return cos_sim(*map(model.get_sentence_vector, (a, b)))"
   ]
  },
  {
   "cell_type": "code",
   "execution_count": 8,
   "id": "1760f1bd-46d7-47b5-adc8-b7537c851571",
   "metadata": {},
   "outputs": [
    {
     "name": "stderr",
     "output_type": "stream",
     "text": [
      "Warning : `load_model` does not return WordVectorModel or SupervisedModel any more, but a `FastText` object which is very similar.\n"
     ]
    },
    {
     "data": {
      "text/plain": [
       "0.9222608"
      ]
     },
     "execution_count": 8,
     "metadata": {},
     "output_type": "execute_result"
    }
   ],
   "source": [
    "sim(\n",
    "    './wiki_1b.bin',\n",
    "    'fix beacons list not loading in VWI job creation (raised in https://app.asana.com/0/1149050960825993/1200436825375992)',\n",
    "    'fix issue on loading beacons for VWI job creation',\n",
    ")"
   ]
  },
  {
   "cell_type": "code",
   "execution_count": 9,
   "id": "c902ff25-1ea5-4232-b1c6-8a8fa8d9a92f",
   "metadata": {},
   "outputs": [
    {
     "data": {
      "text/plain": [
       "0.9222608"
      ]
     },
     "execution_count": 9,
     "metadata": {},
     "output_type": "execute_result"
    }
   ],
   "source": [
    "# prefix stripped\n",
    "sim(\n",
    "    model,\n",
    "    'fix beacons list not loading in VWI job creation (raised in https://app.asana.com/0/1149050960825993/1200436825375992)',\n",
    "    'fix issue on loading beacons for VWI job creation',\n",
    ")"
   ]
  },
  {
   "cell_type": "code",
   "execution_count": 10,
   "id": "368f5b45-b38a-44f7-a6c9-58f47d46fe81",
   "metadata": {},
   "outputs": [
    {
     "data": {
      "text/plain": [
       "0.9264801"
      ]
     },
     "execution_count": 10,
     "metadata": {},
     "output_type": "execute_result"
    }
   ],
   "source": [
    "# prefix intact\n",
    "sim(\n",
    "    model,\n",
    "    'snoke - fix beacons list not loading in VWI job creation (raised in https://app.asana.com/0/1149050960825993/1200436825375992)',\n",
    "    'builder - fix issue on loading beacons for VWI job creation',\n",
    ")"
   ]
  },
  {
   "cell_type": "code",
   "execution_count": 11,
   "id": "30ac8064-509d-4115-be3e-02ec809b4d9b",
   "metadata": {},
   "outputs": [
    {
     "data": {
      "text/plain": [
       "0.79175115"
      ]
     },
     "execution_count": 11,
     "metadata": {},
     "output_type": "execute_result"
    }
   ],
   "source": [
    "sim(\n",
    "    model,\n",
    "    'modal - explore popstate events & add default onbeforeunload alert if there are unsaved changes',\n",
    "    'builder - fix issue on loading beacons for VWI job creation',\n",
    ")"
   ]
  },
  {
   "cell_type": "code",
   "execution_count": 12,
   "id": "bb87108c-a618-481c-a01f-d43151fb08a1",
   "metadata": {},
   "outputs": [
    {
     "data": {
      "text/plain": [
       "0.86247617"
      ]
     },
     "execution_count": 12,
     "metadata": {},
     "output_type": "execute_result"
    }
   ],
   "source": [
    "sim(\n",
    "    model,\n",
    "    'react-maps - merge [G2M] Map/GeoCohortMap - add setViewportBBox , setApiBBox #76 with master',\n",
    "    'Map/GeoCohortMap - add setViewportBBox , setApiBBox'\n",
    ")"
   ]
  },
  {
   "cell_type": "code",
   "execution_count": null,
   "id": "9dd0237e-b982-40cc-a072-81f6cdaca54b",
   "metadata": {},
   "outputs": [],
   "source": []
  }
 ],
 "metadata": {
  "kernelspec": {
   "display_name": "Python 3",
   "language": "python",
   "name": "python3"
  },
  "language_info": {
   "codemirror_mode": {
    "name": "ipython",
    "version": 3
   },
   "file_extension": ".py",
   "mimetype": "text/x-python",
   "name": "python",
   "nbconvert_exporter": "python",
   "pygments_lexer": "ipython3",
   "version": "3.9.5"
  }
 },
 "nbformat": 4,
 "nbformat_minor": 5
}
